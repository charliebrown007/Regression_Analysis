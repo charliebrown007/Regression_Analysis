{
 "cells": [
  {
   "cell_type": "markdown",
   "id": "5e8f4e7c",
   "metadata": {},
   "source": [
    "## Análisis de regresión lineal simple"
   ]
  },
  {
   "cell_type": "markdown",
   "id": "00ffd59e",
   "metadata": {},
   "source": [
    "### 1. Importado de librerías"
   ]
  },
  {
   "cell_type": "code",
   "execution_count": 61,
   "id": "a372fbcf",
   "metadata": {},
   "outputs": [],
   "source": [
    "# Tratamiento de datos\n",
    "import pandas as pd\n",
    "import numpy as np\n",
    "import matplotlib.pyplot as plt\n",
    "\n",
    "# Gráficos\n",
    "import seaborn as sns\n",
    "\n",
    "# Modelado\n",
    "import statsmodels.api as sm\n",
    "\n",
    "# Coeficiente de correlación\n",
    "from scipy.stats import pearsonr"
   ]
  },
  {
   "cell_type": "markdown",
   "id": "642e76da",
   "metadata": {
    "heading_collapsed": true
   },
   "source": [
    "### 2. Creación del dataset"
   ]
  },
  {
   "cell_type": "code",
   "execution_count": 55,
   "id": "340abb73",
   "metadata": {
    "hidden": true
   },
   "outputs": [],
   "source": [
    "hours = [1, 2, 4, 5, 5, 6, 6, 7, 8, 10, 11, 11, 12, 12, 14]\n",
    "score = [64, 66, 76, 73, 74, 81, 83, 82, 80, 88, 84, 82, 91, 93, 89]\n",
    "df = pd.DataFrame ({'hours': hours,'score': score})"
   ]
  },
  {
   "cell_type": "code",
   "execution_count": 3,
   "id": "2fce2327",
   "metadata": {
    "hidden": true
   },
   "outputs": [
    {
     "data": {
      "text/plain": [
       "(15, 2)"
      ]
     },
     "execution_count": 3,
     "metadata": {},
     "output_type": "execute_result"
    }
   ],
   "source": [
    "df.shape"
   ]
  },
  {
   "cell_type": "code",
   "execution_count": 4,
   "id": "7aa77f14",
   "metadata": {
    "hidden": true
   },
   "outputs": [
    {
     "data": {
      "text/html": [
       "<div>\n",
       "<style scoped>\n",
       "    .dataframe tbody tr th:only-of-type {\n",
       "        vertical-align: middle;\n",
       "    }\n",
       "\n",
       "    .dataframe tbody tr th {\n",
       "        vertical-align: top;\n",
       "    }\n",
       "\n",
       "    .dataframe thead th {\n",
       "        text-align: right;\n",
       "    }\n",
       "</style>\n",
       "<table border=\"1\" class=\"dataframe\">\n",
       "  <thead>\n",
       "    <tr style=\"text-align: right;\">\n",
       "      <th></th>\n",
       "      <th>horas</th>\n",
       "      <th>score</th>\n",
       "    </tr>\n",
       "  </thead>\n",
       "  <tbody>\n",
       "    <tr>\n",
       "      <th>0</th>\n",
       "      <td>1</td>\n",
       "      <td>64</td>\n",
       "    </tr>\n",
       "    <tr>\n",
       "      <th>1</th>\n",
       "      <td>2</td>\n",
       "      <td>66</td>\n",
       "    </tr>\n",
       "    <tr>\n",
       "      <th>2</th>\n",
       "      <td>4</td>\n",
       "      <td>76</td>\n",
       "    </tr>\n",
       "  </tbody>\n",
       "</table>\n",
       "</div>"
      ],
      "text/plain": [
       "   horas  score\n",
       "0      1     64\n",
       "1      2     66\n",
       "2      4     76"
      ]
     },
     "execution_count": 4,
     "metadata": {},
     "output_type": "execute_result"
    }
   ],
   "source": [
    "df.head(3)"
   ]
  },
  {
   "cell_type": "markdown",
   "id": "c7f74196",
   "metadata": {},
   "source": [
    "### 3. Visualización preliminar de datos\n",
    "La visualización de los datos ayudan a intuir si existe una correlación entre las dos variables de análisis. En caso de que esta exista se puede calcular el coeficiente de correlación."
   ]
  },
  {
   "cell_type": "markdown",
   "id": "37909887",
   "metadata": {},
   "source": [
    "Se puede observar que la relacón que existe entre las dos variables parece ser lineal con una pendiente positiva."
   ]
  },
  {
   "cell_type": "code",
   "execution_count": 67,
   "id": "8e442680",
   "metadata": {
    "scrolled": false
   },
   "outputs": [
    {
     "data": {
      "image/png": "[encoded data removed]",
      "text/plain": [
       "<Figure size 432x288 with 1 Axes>"
      ]
     },
     "metadata": {},
     "output_type": "display_data"
    }
   ],
   "source": [
    "# Estilo del gráfico\n",
    "#sns.set_theme()\n",
    "sns.set_style(\"whitegrid\")\n",
    "#sns.set_style(\"ticks\")\n",
    "\n",
    "# Scatterplot\n",
    "p = sns.scatterplot(data = df, x = \"hours\", y = \"score\",color = \"firebrick\")\n",
    "\n",
    "# Definición de puntos máximos y mínimos\n",
    "xmin, xmax = 0, 15\n",
    "ymin, ymax = 60, 100\n",
    "\n",
    "# Formato del gráfico\n",
    "p.set_title(\"Puntaje obtendo vs Horas de estudio \\n\", fontsize = 14)\n",
    "p.set_xlabel(\"Horas\", fontsize = 13)\n",
    "p.set_ylabel(\"Score\", fontsize = 13)\n",
    "p.set_xticks(np.arange(xmin,xmax+1,2))\n",
    "p.set_yticks(np.arange(ymin,ymax+5,5))\n",
    "\n",
    "# Remover el margen superior y el margen derecho\n",
    "#sns.despine()\n",
    "#sns.despine(offset=10, trim=True)\n",
    "\n",
    "# Mostrar gráfico\n",
    "plt.show()"
   ]
  },
  {
   "cell_type": "code",
   "execution_count": 56,
   "id": "ccbbf844",
   "metadata": {},
   "outputs": [
    {
     "data": {
      "text/plain": [
       "<AxesSubplot:xlabel='hours', ylabel='score'>"
      ]
     },
     "execution_count": 56,
     "metadata": {},
     "output_type": "execute_result"
    },
    {
     "data": {
      "image/png": "[encoded data removed]",
      "text/plain": [
       "<Figure size 432x288 with 1 Axes>"
      ]
     },
     "metadata": {},
     "output_type": "display_data"
    }
   ],
   "source": [
    "# Gráfico de dispersión rápido\n",
    "sns.scatterplot(data=df, x=\"hours\", y=\"score\")"
   ]
  },
  {
   "cell_type": "markdown",
   "id": "26123b5c",
   "metadata": {},
   "source": [
    "Correlación lineal entre las dos variables"
   ]
  },
  {
   "cell_type": "markdown",
   "id": "690ea4b8",
   "metadata": {},
   "source": [
    "El gráfico y el test de correlación muestran una relación lineal, de intensidad considerable y significativa. Tiene sentido intentar generar un modelo de regresión lineal con el objetivo de predecir la variable dependiente."
   ]
  },
  {
   "cell_type": "code",
   "execution_count": 63,
   "id": "64a68c51",
   "metadata": {},
   "outputs": [
    {
     "name": "stdout",
     "output_type": "stream",
     "text": [
      "Coeficiente de correlación de Pearson:  0.9115809192514575\n",
      "P-value:  2.2527093223507735e-06\n"
     ]
    }
   ],
   "source": [
    "corr_test = pearsonr(x = df['hours'], y = df['score'])\n",
    "print(\"Coeficiente de correlación de Pearson: \", corr_test[0])\n",
    "print(\"P-value: \", corr_test[1])"
   ]
  },
  {
   "cell_type": "markdown",
   "id": "bf59dc60",
   "metadata": {},
   "source": [
    "También se puede observar que no existen valores atípicos en la variable dependiente"
   ]
  },
  {
   "cell_type": "code",
   "execution_count": 66,
   "id": "ded9eb27",
   "metadata": {},
   "outputs": [
    {
     "data": {
      "image/png": "[encoded data removed]",
      "text/plain": [
       "<Figure size 432x288 with 1 Axes>"
      ]
     },
     "metadata": {},
     "output_type": "display_data"
    }
   ],
   "source": [
    "sns.set_style(\"white\")\n",
    "p = sns.boxplot(y = df[\"score\"], color = \"cadetblue\")\n",
    "p.set_title(\"Distribucón del puntaje obtenido \\n\", fontsize = 13)\n",
    "p.set_ylabel(\"Puntuación\", fontsize = 12)\n",
    "sns.despine()"
   ]
  },
  {
   "cell_type": "markdown",
   "id": "919ac164",
   "metadata": {},
   "source": [
    "### 4. Ajuste del modelo de regresión lineal\n",
    "A causa de la correlación calculada en la etapa 3, tiene sentido generar un modelo de regresión lineal con el objetivo de predecir la variable dependiente."
   ]
  },
  {
   "cell_type": "code",
   "execution_count": 11,
   "id": "060e659d",
   "metadata": {},
   "outputs": [],
   "source": [
    "# Definición de la variable de respuesta o dependiente\n",
    "y = df[\"puntuación\"]\n",
    "# Definición de la variable explicativa o independiente\n",
    "x = df[\"horas\"]\n",
    "# Adición de una constante a la variables independiente\n",
    "x = sm.add_constant(x)\n",
    "# Modelo de regresión lineal\n",
    "# OLS: ordinary least squares (Método de mínimos cuadrados ordinarios)\n",
    "modelo = sm.OLS(y, x).fit()"
   ]
  },
  {
   "cell_type": "markdown",
   "id": "0de3ec96",
   "metadata": {},
   "source": [
    "### 5. Presentación de los resultados del modelo"
   ]
  },
  {
   "cell_type": "markdown",
   "id": "954101c9",
   "metadata": {},
   "source": [
    "Presentación tabular de todos los resultados"
   ]
  },
  {
   "cell_type": "code",
   "execution_count": 1,
   "id": "70077fd5",
   "metadata": {
    "scrolled": false
   },
   "outputs": [
    {
     "ename": "NameError",
     "evalue": "name 'modelo' is not defined",
     "output_type": "error",
     "traceback": [
      "\u001b[1;31m---------------------------------------------------------------------------\u001b[0m",
      "\u001b[1;31mNameError\u001b[0m                                 Traceback (most recent call last)",
      "\u001b[1;32m~\\AppData\\Local\\Temp/ipykernel_2156/3815744629.py\u001b[0m in \u001b[0;36m<module>\u001b[1;34m\u001b[0m\n\u001b[0;32m      1\u001b[0m \u001b[1;31m# El resultado surge si la función es encerrada entre paréntesis\u001b[0m\u001b[1;33m\u001b[0m\u001b[1;33m\u001b[0m\u001b[0m\n\u001b[1;32m----> 2\u001b[1;33m \u001b[1;33m(\u001b[0m\u001b[0mmodelo\u001b[0m\u001b[1;33m.\u001b[0m\u001b[0msummary\u001b[0m\u001b[1;33m(\u001b[0m\u001b[1;33m)\u001b[0m\u001b[1;33m)\u001b[0m\u001b[1;33m\u001b[0m\u001b[1;33m\u001b[0m\u001b[0m\n\u001b[0m",
      "\u001b[1;31mNameError\u001b[0m: name 'modelo' is not defined"
     ]
    }
   ],
   "source": [
    "# El resultado surge si la función es encerrada entre paréntesis\n",
    "(modelo.summary())"
   ]
  },
  {
   "cell_type": "markdown",
   "id": "3c43c88b",
   "metadata": {},
   "source": [
    "Presentación como informe de todos los resultados"
   ]
  },
  {
   "cell_type": "markdown",
   "id": "c5ffbbce",
   "metadata": {},
   "source": [
    "Según los resultados, la ecuación de regresión ajustada es: **Puntuación = 65,334 + 1,9824 * (horas)**"
   ]
  },
  {
   "cell_type": "code",
   "execution_count": 14,
   "id": "25ca1058",
   "metadata": {},
   "outputs": [
    {
     "name": "stdout",
     "output_type": "stream",
     "text": [
      "                 Results: Ordinary least squares\n",
      "=================================================================\n",
      "Model:              OLS              Adj. R-squared:     0.818   \n",
      "Dependent Variable: puntuación       AIC:                83.1888 \n",
      "Date:               2022-02-22 18:50 BIC:                84.6049 \n",
      "No. Observations:   15               Log-Likelihood:     -39.594 \n",
      "Df Model:           1                F-statistic:        63.91   \n",
      "Df Residuals:       13               Prob (F-statistic): 2.25e-06\n",
      "R-squared:          0.831            Scale:              13.256  \n",
      "-------------------------------------------------------------------\n",
      "           Coef.    Std.Err.      t      P>|t|     [0.025    0.975]\n",
      "-------------------------------------------------------------------\n",
      "const     65.3340     2.1060   31.0229   0.0000   60.7842   69.8837\n",
      "horas      1.9824     0.2480    7.9946   0.0000    1.4467    2.5181\n",
      "-----------------------------------------------------------------\n",
      "Omnibus:              4.351        Durbin-Watson:           1.677\n",
      "Prob(Omnibus):        0.114        Jarque-Bera (JB):        1.329\n",
      "Skew:                 0.092        Prob(JB):                0.515\n",
      "Kurtosis:             1.554        Condition No.:           19   \n",
      "=================================================================\n",
      "\n"
     ]
    }
   ],
   "source": [
    "print(modelo.summary2())"
   ]
  },
  {
   "cell_type": "markdown",
   "id": "ecb1998b",
   "metadata": {},
   "source": [
    "Constantes o parámtetros del modelo"
   ]
  },
  {
   "cell_type": "code",
   "execution_count": 15,
   "id": "7b03e76e",
   "metadata": {},
   "outputs": [
    {
     "data": {
      "text/plain": [
       "const    65.333952\n",
       "horas     1.982375\n",
       "dtype: float64"
      ]
     },
     "execution_count": 15,
     "metadata": {},
     "output_type": "execute_result"
    }
   ],
   "source": [
    "modelo.params"
   ]
  },
  {
   "cell_type": "markdown",
   "id": "56f8ae8f",
   "metadata": {},
   "source": [
    "Número de observaciones"
   ]
  },
  {
   "cell_type": "code",
   "execution_count": 16,
   "id": "f81e4229",
   "metadata": {},
   "outputs": [
    {
     "data": {
      "text/plain": [
       "15.0"
      ]
     },
     "execution_count": 16,
     "metadata": {},
     "output_type": "execute_result"
    }
   ],
   "source": [
    "modelo.nobs"
   ]
  },
  {
   "cell_type": "markdown",
   "id": "6a99c023",
   "metadata": {},
   "source": [
    "R Cuadrado"
   ]
  },
  {
   "cell_type": "code",
   "execution_count": 17,
   "id": "631b9dfd",
   "metadata": {},
   "outputs": [
    {
     "data": {
      "text/plain": [
       "0.8309797723433321"
      ]
     },
     "execution_count": 17,
     "metadata": {},
     "output_type": "execute_result"
    }
   ],
   "source": [
    "modelo.rsquared"
   ]
  },
  {
   "cell_type": "markdown",
   "id": "dc94eaf7",
   "metadata": {},
   "source": [
    "### 6. Creación de gráficos de residuos"
   ]
  },
  {
   "cell_type": "code",
   "execution_count": null,
   "id": "4b16bcdf",
   "metadata": {},
   "outputs": [],
   "source": [
    "# Tamaño de la figura\n",
    "fig = plt.figure(figsize = (12,8))\n",
    "\n",
    "# Gráficos residuales\n",
    "fig = smf.graphics.plot_regress_exog(modelo, \"horas\", fig = fig)"
   ]
  },
  {
   "cell_type": "code",
   "execution_count": 19,
   "id": "8d9f1f87",
   "metadata": {},
   "outputs": [
    {
     "data": {
      "image/png": "[encoded data removed]",
      "text/plain": [
       "<Figure size 432x288 with 1 Axes>"
      ]
     },
     "metadata": {},
     "output_type": "display_data"
    }
   ],
   "source": [
    "#definir residuales\n",
    "res = modelo.resid\n",
    "\n",
    "#create QQ plot\n",
    "fig = sm.qqplot(res, fit = True , line = \"45\")\n",
    "plt.show ()"
   ]
  }
 ],
 "metadata": {
  "kernelspec": {
   "display_name": "Python 3 (ipykernel)",
   "language": "python",
   "name": "python3"
  },
  "language_info": {
   "codemirror_mode": {
    "name": "ipython",
    "version": 3
   },
   "file_extension": ".py",
   "mimetype": "text/x-python",
   "name": "python",
   "nbconvert_exporter": "python",
   "pygments_lexer": "ipython3",
   "version": "3.9.7"
  }
 },
 "nbformat": 4,
 "nbformat_minor": 5
}
