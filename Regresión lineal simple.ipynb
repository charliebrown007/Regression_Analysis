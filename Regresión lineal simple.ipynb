{
 "cells": [
  {
   "cell_type": "markdown",
   "id": "5e8f4e7c",
   "metadata": {},
   "source": [
    "## Análisis de regresión lineal simple"
   ]
  },
  {
   "cell_type": "markdown",
   "id": "00ffd59e",
   "metadata": {},
   "source": [
    "### 1. Importado de librerías"
   ]
  },
  {
   "cell_type": "code",
   "execution_count": 1,
   "id": "a372fbcf",
   "metadata": {},
   "outputs": [],
   "source": [
    "import pandas as pd\n",
    "import matplotlib.pyplot as plt\n",
    "import seaborn as sns\n",
    "import statsmodels.api as sm"
   ]
  },
  {
   "cell_type": "markdown",
   "id": "642e76da",
   "metadata": {
    "heading_collapsed": true
   },
   "source": [
    "### 2. Creación del dataset"
   ]
  },
  {
   "cell_type": "code",
   "execution_count": 2,
   "id": "340abb73",
   "metadata": {
    "hidden": true
   },
   "outputs": [],
   "source": [
    "df = pd.DataFrame ({'horas': [1, 2, 4, 5, 5, 6, 6, 7, 8, 10, 11, 11, 12, 12, 14],\n",
    "                   'puntuación': [64, 66, 76, 73, 74, 81, 83, 82, 80, 88, 84, 82, 91, 93, 89]})"
   ]
  },
  {
   "cell_type": "code",
   "execution_count": 3,
   "id": "2fce2327",
   "metadata": {
    "hidden": true
   },
   "outputs": [
    {
     "data": {
      "text/plain": [
       "(15, 2)"
      ]
     },
     "execution_count": 3,
     "metadata": {},
     "output_type": "execute_result"
    }
   ],
   "source": [
    "df.shape"
   ]
  },
  {
   "cell_type": "code",
   "execution_count": 5,
   "id": "7aa77f14",
   "metadata": {
    "hidden": true
   },
   "outputs": [
    {
     "data": {
      "text/html": [
       "<div>\n",
       "<style scoped>\n",
       "    .dataframe tbody tr th:only-of-type {\n",
       "        vertical-align: middle;\n",
       "    }\n",
       "\n",
       "    .dataframe tbody tr th {\n",
       "        vertical-align: top;\n",
       "    }\n",
       "\n",
       "    .dataframe thead th {\n",
       "        text-align: right;\n",
       "    }\n",
       "</style>\n",
       "<table border=\"1\" class=\"dataframe\">\n",
       "  <thead>\n",
       "    <tr style=\"text-align: right;\">\n",
       "      <th></th>\n",
       "      <th>horas</th>\n",
       "      <th>puntuación</th>\n",
       "    </tr>\n",
       "  </thead>\n",
       "  <tbody>\n",
       "    <tr>\n",
       "      <th>0</th>\n",
       "      <td>1</td>\n",
       "      <td>64</td>\n",
       "    </tr>\n",
       "    <tr>\n",
       "      <th>1</th>\n",
       "      <td>2</td>\n",
       "      <td>66</td>\n",
       "    </tr>\n",
       "    <tr>\n",
       "      <th>2</th>\n",
       "      <td>4</td>\n",
       "      <td>76</td>\n",
       "    </tr>\n",
       "  </tbody>\n",
       "</table>\n",
       "</div>"
      ],
      "text/plain": [
       "   horas  puntuación\n",
       "0      1          64\n",
       "1      2          66\n",
       "2      4          76"
      ]
     },
     "execution_count": 5,
     "metadata": {},
     "output_type": "execute_result"
    }
   ],
   "source": [
    "df.head(3)"
   ]
  },
  {
   "cell_type": "markdown",
   "id": "c7f74196",
   "metadata": {
    "heading_collapsed": true
   },
   "source": [
    "### 3. Visualización preliminar de datos"
   ]
  },
  {
   "cell_type": "markdown",
   "id": "37909887",
   "metadata": {
    "hidden": true
   },
   "source": [
    "Se puede observar que la relacón que existe entre las dos variables parece ser lineal con una pendiente positiva."
   ]
  },
  {
   "cell_type": "code",
   "execution_count": 9,
   "id": "8e442680",
   "metadata": {
    "hidden": true,
    "scrolled": true
   },
   "outputs": [
    {
     "data": {
      "image/png": "[encoded data removed]",
      "text/plain": [
       "<Figure size 432x288 with 1 Axes>"
      ]
     },
     "metadata": {},
     "output_type": "display_data"
    }
   ],
   "source": [
    "sns.set_style(\"white\")\n",
    "p = sns.scatterplot(data = df, x = \"horas\", y = \"puntuación\",color = \"cadetblue\")\n",
    "p.set_title(\"Puntaje obtendo vs Horas de estudio \\n\", fontsize = 12)\n",
    "p.set_xlabel(\"Horas\", fontsize = 11)\n",
    "p.set_ylabel(\"Puntuación\", fontsize = 11)\n",
    "sns.despine()"
   ]
  },
  {
   "cell_type": "markdown",
   "id": "bf59dc60",
   "metadata": {
    "hidden": true
   },
   "source": [
    "También se puede observar que no existen valores atípicos en la variable dependiente"
   ]
  },
  {
   "cell_type": "code",
   "execution_count": 10,
   "id": "ded9eb27",
   "metadata": {
    "hidden": true
   },
   "outputs": [
    {
     "data": {
      "image/png": "[encoded data removed]",
      "text/plain": [
       "<Figure size 432x288 with 1 Axes>"
      ]
     },
     "metadata": {},
     "output_type": "display_data"
    }
   ],
   "source": [
    "sns.set_style(\"white\")\n",
    "p = sns.boxplot(y = df[\"puntuación\"], color = \"cadetblue\")\n",
    "p.set_title(\"Distribucón del puntaje obtenido \\n\", fontsize = 12)\n",
    "p.set_ylabel(\"Puntuación\", fontsize = 11)\n",
    "sns.despine()"
   ]
  },
  {
   "cell_type": "markdown",
   "id": "919ac164",
   "metadata": {},
   "source": [
    "### 4. Ajuste del modelo de regresión lineal"
   ]
  },
  {
   "cell_type": "code",
   "execution_count": 11,
   "id": "060e659d",
   "metadata": {},
   "outputs": [],
   "source": [
    "# Definición de la variable de respuesta o dependiente\n",
    "y = df[\"puntuación\"]\n",
    "# Definición de la variable explicativa o independiente\n",
    "x = df[\"horas\"]\n",
    "# Adición de una constante a la variables independiente\n",
    "x = sm.add_constant(x)\n",
    "# Modelo de regresión lineal\n",
    "# OLS: ordinary least squares (Método de mínimos cuadrados ordinarios)\n",
    "modelo = sm.OLS(y, x).fit()"
   ]
  },
  {
   "cell_type": "markdown",
   "id": "0de3ec96",
   "metadata": {
    "heading_collapsed": true
   },
   "source": [
    "### 5. Presentación de los resultados del modelo"
   ]
  },
  {
   "cell_type": "markdown",
   "id": "954101c9",
   "metadata": {
    "hidden": true
   },
   "source": [
    "Presentación tabular de todos los resultados"
   ]
  },
  {
   "cell_type": "code",
   "execution_count": 13,
   "id": "70077fd5",
   "metadata": {
    "hidden": true,
    "scrolled": false
   },
   "outputs": [
    {
     "name": "stderr",
     "output_type": "stream",
     "text": [
      "C:\\Users\\Carlos\\anaconda3\\envs\\DS-Env\\lib\\site-packages\\scipy\\stats\\stats.py:1541: UserWarning: kurtosistest only valid for n>=20 ... continuing anyway, n=15\n",
      "  warnings.warn(\"kurtosistest only valid for n>=20 ... continuing \"\n"
     ]
    },
    {
     "data": {
      "text/html": [
       "<table class=\"simpletable\">\n",
       "<caption>OLS Regression Results</caption>\n",
       "<tr>\n",
       "  <th>Dep. Variable:</th>       <td>puntuación</td>    <th>  R-squared:         </th> <td>   0.831</td>\n",
       "</tr>\n",
       "<tr>\n",
       "  <th>Model:</th>                   <td>OLS</td>       <th>  Adj. R-squared:    </th> <td>   0.818</td>\n",
       "</tr>\n",
       "<tr>\n",
       "  <th>Method:</th>             <td>Least Squares</td>  <th>  F-statistic:       </th> <td>   63.91</td>\n",
       "</tr>\n",
       "<tr>\n",
       "  <th>Date:</th>             <td>Tue, 22 Feb 2022</td> <th>  Prob (F-statistic):</th> <td>2.25e-06</td>\n",
       "</tr>\n",
       "<tr>\n",
       "  <th>Time:</th>                 <td>18:49:16</td>     <th>  Log-Likelihood:    </th> <td> -39.594</td>\n",
       "</tr>\n",
       "<tr>\n",
       "  <th>No. Observations:</th>      <td>    15</td>      <th>  AIC:               </th> <td>   83.19</td>\n",
       "</tr>\n",
       "<tr>\n",
       "  <th>Df Residuals:</th>          <td>    13</td>      <th>  BIC:               </th> <td>   84.60</td>\n",
       "</tr>\n",
       "<tr>\n",
       "  <th>Df Model:</th>              <td>     1</td>      <th>                     </th>     <td> </td>   \n",
       "</tr>\n",
       "<tr>\n",
       "  <th>Covariance Type:</th>      <td>nonrobust</td>    <th>                     </th>     <td> </td>   \n",
       "</tr>\n",
       "</table>\n",
       "<table class=\"simpletable\">\n",
       "<tr>\n",
       "    <td></td>       <th>coef</th>     <th>std err</th>      <th>t</th>      <th>P>|t|</th>  <th>[0.025</th>    <th>0.975]</th>  \n",
       "</tr>\n",
       "<tr>\n",
       "  <th>const</th> <td>   65.3340</td> <td>    2.106</td> <td>   31.023</td> <td> 0.000</td> <td>   60.784</td> <td>   69.884</td>\n",
       "</tr>\n",
       "<tr>\n",
       "  <th>horas</th> <td>    1.9824</td> <td>    0.248</td> <td>    7.995</td> <td> 0.000</td> <td>    1.447</td> <td>    2.518</td>\n",
       "</tr>\n",
       "</table>\n",
       "<table class=\"simpletable\">\n",
       "<tr>\n",
       "  <th>Omnibus:</th>       <td> 4.351</td> <th>  Durbin-Watson:     </th> <td>   1.677</td>\n",
       "</tr>\n",
       "<tr>\n",
       "  <th>Prob(Omnibus):</th> <td> 0.114</td> <th>  Jarque-Bera (JB):  </th> <td>   1.329</td>\n",
       "</tr>\n",
       "<tr>\n",
       "  <th>Skew:</th>          <td> 0.092</td> <th>  Prob(JB):          </th> <td>   0.515</td>\n",
       "</tr>\n",
       "<tr>\n",
       "  <th>Kurtosis:</th>      <td> 1.554</td> <th>  Cond. No.          </th> <td>    19.2</td>\n",
       "</tr>\n",
       "</table><br/><br/>Notes:<br/>[1] Standard Errors assume that the covariance matrix of the errors is correctly specified."
      ],
      "text/plain": [
       "<class 'statsmodels.iolib.summary.Summary'>\n",
       "\"\"\"\n",
       "                            OLS Regression Results                            \n",
       "==============================================================================\n",
       "Dep. Variable:             puntuación   R-squared:                       0.831\n",
       "Model:                            OLS   Adj. R-squared:                  0.818\n",
       "Method:                 Least Squares   F-statistic:                     63.91\n",
       "Date:                Tue, 22 Feb 2022   Prob (F-statistic):           2.25e-06\n",
       "Time:                        18:49:16   Log-Likelihood:                -39.594\n",
       "No. Observations:                  15   AIC:                             83.19\n",
       "Df Residuals:                      13   BIC:                             84.60\n",
       "Df Model:                           1                                         \n",
       "Covariance Type:            nonrobust                                         \n",
       "==============================================================================\n",
       "                 coef    std err          t      P>|t|      [0.025      0.975]\n",
       "------------------------------------------------------------------------------\n",
       "const         65.3340      2.106     31.023      0.000      60.784      69.884\n",
       "horas          1.9824      0.248      7.995      0.000       1.447       2.518\n",
       "==============================================================================\n",
       "Omnibus:                        4.351   Durbin-Watson:                   1.677\n",
       "Prob(Omnibus):                  0.114   Jarque-Bera (JB):                1.329\n",
       "Skew:                           0.092   Prob(JB):                        0.515\n",
       "Kurtosis:                       1.554   Cond. No.                         19.2\n",
       "==============================================================================\n",
       "\n",
       "Notes:\n",
       "[1] Standard Errors assume that the covariance matrix of the errors is correctly specified.\n",
       "\"\"\""
      ]
     },
     "execution_count": 13,
     "metadata": {},
     "output_type": "execute_result"
    }
   ],
   "source": [
    "(modelo.summary())"
   ]
  },
  {
   "cell_type": "markdown",
   "id": "3c43c88b",
   "metadata": {
    "hidden": true
   },
   "source": [
    "Presentación como informe de todos los resultados"
   ]
  },
  {
   "cell_type": "markdown",
   "id": "c5ffbbce",
   "metadata": {
    "hidden": true
   },
   "source": [
    "Según los resultados, la ecuación de regresión ajustada es: **Puntuación = 65,334 + 1,9824 * (horas)**"
   ]
  },
  {
   "cell_type": "code",
   "execution_count": 14,
   "id": "25ca1058",
   "metadata": {
    "hidden": true
   },
   "outputs": [
    {
     "name": "stdout",
     "output_type": "stream",
     "text": [
      "                 Results: Ordinary least squares\n",
      "=================================================================\n",
      "Model:              OLS              Adj. R-squared:     0.818   \n",
      "Dependent Variable: puntuación       AIC:                83.1888 \n",
      "Date:               2022-02-22 18:50 BIC:                84.6049 \n",
      "No. Observations:   15               Log-Likelihood:     -39.594 \n",
      "Df Model:           1                F-statistic:        63.91   \n",
      "Df Residuals:       13               Prob (F-statistic): 2.25e-06\n",
      "R-squared:          0.831            Scale:              13.256  \n",
      "-------------------------------------------------------------------\n",
      "           Coef.    Std.Err.      t      P>|t|     [0.025    0.975]\n",
      "-------------------------------------------------------------------\n",
      "const     65.3340     2.1060   31.0229   0.0000   60.7842   69.8837\n",
      "horas      1.9824     0.2480    7.9946   0.0000    1.4467    2.5181\n",
      "-----------------------------------------------------------------\n",
      "Omnibus:              4.351        Durbin-Watson:           1.677\n",
      "Prob(Omnibus):        0.114        Jarque-Bera (JB):        1.329\n",
      "Skew:                 0.092        Prob(JB):                0.515\n",
      "Kurtosis:             1.554        Condition No.:           19   \n",
      "=================================================================\n",
      "\n"
     ]
    }
   ],
   "source": [
    "print(modelo.summary2())"
   ]
  },
  {
   "cell_type": "markdown",
   "id": "ecb1998b",
   "metadata": {
    "hidden": true
   },
   "source": [
    "Constantes o parámtetros del modelo"
   ]
  },
  {
   "cell_type": "code",
   "execution_count": 15,
   "id": "7b03e76e",
   "metadata": {
    "hidden": true
   },
   "outputs": [
    {
     "data": {
      "text/plain": [
       "const    65.333952\n",
       "horas     1.982375\n",
       "dtype: float64"
      ]
     },
     "execution_count": 15,
     "metadata": {},
     "output_type": "execute_result"
    }
   ],
   "source": [
    "modelo.params"
   ]
  },
  {
   "cell_type": "markdown",
   "id": "56f8ae8f",
   "metadata": {
    "hidden": true
   },
   "source": [
    "Número de observaciones"
   ]
  },
  {
   "cell_type": "code",
   "execution_count": 16,
   "id": "f81e4229",
   "metadata": {
    "hidden": true
   },
   "outputs": [
    {
     "data": {
      "text/plain": [
       "15.0"
      ]
     },
     "execution_count": 16,
     "metadata": {},
     "output_type": "execute_result"
    }
   ],
   "source": [
    "modelo.nobs"
   ]
  },
  {
   "cell_type": "markdown",
   "id": "6a99c023",
   "metadata": {
    "hidden": true
   },
   "source": [
    "R Cuadrado"
   ]
  },
  {
   "cell_type": "code",
   "execution_count": 17,
   "id": "631b9dfd",
   "metadata": {
    "hidden": true
   },
   "outputs": [
    {
     "data": {
      "text/plain": [
       "0.8309797723433321"
      ]
     },
     "execution_count": 17,
     "metadata": {},
     "output_type": "execute_result"
    }
   ],
   "source": [
    "modelo.rsquared"
   ]
  },
  {
   "cell_type": "markdown",
   "id": "dc94eaf7",
   "metadata": {},
   "source": [
    "### 6. Creación de gráficos de residuos"
   ]
  },
  {
   "cell_type": "code",
   "execution_count": null,
   "id": "4b16bcdf",
   "metadata": {},
   "outputs": [],
   "source": [
    "# Tamaño de la figura\n",
    "fig = plt.figure(figsize = (12,8))\n",
    "\n",
    "# Gráficos residuales\n",
    "fig = smf.graphics.plot_regress_exog(modelo, \"horas\", fig = fig)"
   ]
  },
  {
   "cell_type": "code",
   "execution_count": 19,
   "id": "8d9f1f87",
   "metadata": {},
   "outputs": [
    {
     "data": {
      "image/png": "[encoded data removed]",
      "text/plain": [
       "<Figure size 432x288 with 1 Axes>"
      ]
     },
     "metadata": {},
     "output_type": "display_data"
    }
   ],
   "source": [
    "#definir residuales\n",
    "res = modelo.resid\n",
    "\n",
    "#create QQ plot\n",
    "fig = sm.qqplot(res, fit = True , line = \"45\")\n",
    "plt.show ()"
   ]
  }
 ],
 "metadata": {
  "kernelspec": {
   "display_name": "Python 3 (ipykernel)",
   "language": "python",
   "name": "python3"
  },
  "language_info": {
   "codemirror_mode": {
    "name": "ipython",
    "version": 3
   },
   "file_extension": ".py",
   "mimetype": "text/x-python",
   "name": "python",
   "nbconvert_exporter": "python",
   "pygments_lexer": "ipython3",
   "version": "3.9.7"
  }
 },
 "nbformat": 4,
 "nbformat_minor": 5
}
